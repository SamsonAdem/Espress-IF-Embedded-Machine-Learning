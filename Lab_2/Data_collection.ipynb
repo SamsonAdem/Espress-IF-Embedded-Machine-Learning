{
 "cells": [
  {
   "cell_type": "code",
   "execution_count": 1,
   "metadata": {},
   "outputs": [],
   "source": [
    "import cv2\n",
    "\n",
    "a_count = 0\n",
    "b_count = 0"
   ]
  },
  {
   "cell_type": "code",
   "execution_count": null,
   "metadata": {},
   "outputs": [],
   "source": [
    "cam = cv2.VideoCapture(0)\n",
    "key = ''\n",
    "while key !=133:\n",
    "\tret, frame = cam.read()\n",
    "\tframe = cv2.resize(frame,(360,360))\n",
    "\tcv2.imshow(\"hello\",frame)\n",
    "\tkey = cv2.waitKey(10)\n",
    "\tif key == 97:\n",
    "\t\tcv2.imwrite(\"Dataset/a/a_\" + str(a_count) + \".png\",frame)\n",
    "\t\tprint(\"saved a_\" + str(a_count))\n",
    "\t\ta_count += 1\n",
    "\n",
    "\tif key == 98:\n",
    "\t\tcv2.imwrite(\"Dataset/b/b_\" + str(b_count) + \".png\", frame)\n",
    "\t\tprint(\"saved b_\" + str(b_count))\n",
    "\t\tb_count += 1\n",
    "\n",
    "cam.release()\n",
    "cv2.destroyAllWindows()"
   ]
  }
 ],
 "metadata": {
  "kernelspec": {
   "display_name": ".venv",
   "language": "python",
   "name": "python3"
  },
  "language_info": {
   "codemirror_mode": {
    "name": "ipython",
    "version": 3
   },
   "file_extension": ".py",
   "mimetype": "text/x-python",
   "name": "python",
   "nbconvert_exporter": "python",
   "pygments_lexer": "ipython3",
   "version": "3.11.2"
  }
 },
 "nbformat": 4,
 "nbformat_minor": 2
}
